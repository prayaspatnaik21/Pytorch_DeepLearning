{
  "cells": [
    {
      "cell_type": "code",
      "execution_count": 1,
      "id": "d8475a72",
      "metadata": {
        "id": "d8475a72"
      },
      "outputs": [],
      "source": [
        "import torch\n",
        "import numpy as np\n",
        "import os"
      ]
    },
    {
      "cell_type": "markdown",
      "id": "f5b9211a",
      "metadata": {
        "id": "f5b9211a"
      },
      "source": [
        "# Derivatives , Partial Derivative and Successive Differentiation"
      ]
    },
    {
      "cell_type": "code",
      "execution_count": 2,
      "id": "10276476",
      "metadata": {
        "id": "10276476",
        "outputId": "e3ae58b6-314f-403a-9bee-bc8a2faa9950",
        "colab": {
          "base_uri": "https://localhost:8080/"
        }
      },
      "outputs": [
        {
          "output_type": "execute_result",
          "data": {
            "text/plain": [
              "tensor(5., requires_grad=True)"
            ]
          },
          "metadata": {},
          "execution_count": 2
        }
      ],
      "source": [
        "TensorX = torch.tensor(5.0,requires_grad=True)\n",
        "TensorX"
      ]
    },
    {
      "cell_type": "markdown",
      "id": "9af67d20",
      "metadata": {
        "id": "9af67d20"
      },
      "source": [
        "$TensorX = 5.0$\n",
        "\n",
        "$y = TensorX^2 => f(x) = TensorX^2$"
      ]
    },
    {
      "cell_type": "code",
      "execution_count": 3,
      "id": "c1539a2d",
      "metadata": {
        "id": "c1539a2d",
        "outputId": "118c96f4-bbb5-4bc9-cf0f-9633906bdcd5",
        "colab": {
          "base_uri": "https://localhost:8080/"
        }
      },
      "outputs": [
        {
          "output_type": "execute_result",
          "data": {
            "text/plain": [
              "tensor(25., grad_fn=<PowBackward0>)"
            ]
          },
          "metadata": {},
          "execution_count": 3
        }
      ],
      "source": [
        "y = TensorX ** 2\n",
        "y"
      ]
    },
    {
      "cell_type": "markdown",
      "id": "ec5802c7",
      "metadata": {
        "id": "ec5802c7"
      },
      "source": [
        "$\\frac{dy}{dx} = 2x$\n",
        "\n",
        "$f'(x=5.0) = 2 * 5.0 = 10$\n"
      ]
    },
    {
      "cell_type": "code",
      "execution_count": 4,
      "id": "faae45e9",
      "metadata": {
        "id": "faae45e9",
        "outputId": "45979ada-ef6f-42cc-d86a-5d281b5e020d",
        "colab": {
          "base_uri": "https://localhost:8080/"
        }
      },
      "outputs": [
        {
          "output_type": "execute_result",
          "data": {
            "text/plain": [
              "tensor(10.)"
            ]
          },
          "metadata": {},
          "execution_count": 4
        }
      ],
      "source": [
        "#Derivative of x^2 is 2x.\n",
        "#We are finding the derivative at x = 5\n",
        "#Value should be 10\n",
        "\n",
        "y.backward()\n",
        "TensorX.grad"
      ]
    },
    {
      "cell_type": "markdown",
      "id": "55db05bb",
      "metadata": {
        "id": "55db05bb"
      },
      "source": [
        "# Partial Derivative"
      ]
    },
    {
      "cell_type": "code",
      "execution_count": 5,
      "id": "b3560159",
      "metadata": {
        "id": "b3560159"
      },
      "outputs": [],
      "source": [
        "TensorX = torch.tensor(5.0,requires_grad=True)\n",
        "TensorY = torch.tensor(5.0,requires_grad=True)"
      ]
    },
    {
      "cell_type": "markdown",
      "id": "6be158bd",
      "metadata": {
        "id": "6be158bd"
      },
      "source": [
        "$ f(TensorX,TensorY) = TensorX^2 + TensorY^2$\n"
      ]
    },
    {
      "cell_type": "code",
      "execution_count": 6,
      "id": "37b9cbc8",
      "metadata": {
        "id": "37b9cbc8",
        "outputId": "425eeacd-f7bc-465e-d2e7-d2496e49adef",
        "colab": {
          "base_uri": "https://localhost:8080/"
        }
      },
      "outputs": [
        {
          "output_type": "execute_result",
          "data": {
            "text/plain": [
              "tensor(50., grad_fn=<AddBackward0>)"
            ]
          },
          "metadata": {},
          "execution_count": 6
        }
      ],
      "source": [
        "f = TensorX**2 + TensorY**2\n",
        "f"
      ]
    },
    {
      "cell_type": "code",
      "execution_count": 7,
      "id": "a66fffbf",
      "metadata": {
        "id": "a66fffbf"
      },
      "outputs": [],
      "source": [
        "f.backward()"
      ]
    },
    {
      "cell_type": "code",
      "execution_count": 8,
      "id": "5bcd2d81",
      "metadata": {
        "id": "5bcd2d81",
        "outputId": "fe663eea-05b6-45ee-c27d-37eb5af9400c",
        "colab": {
          "base_uri": "https://localhost:8080/"
        }
      },
      "outputs": [
        {
          "output_type": "execute_result",
          "data": {
            "text/plain": [
              "<AddBackward0 at 0x7f89c57757d0>"
            ]
          },
          "metadata": {},
          "execution_count": 8
        }
      ],
      "source": [
        "#Last operation\n",
        "f.grad_fn"
      ]
    },
    {
      "cell_type": "markdown",
      "id": "93029bef",
      "metadata": {
        "id": "93029bef"
      },
      "source": [
        "$\\frac{df(TensorX,TensorY)}{dTensorX} = 2TensorX$\n",
        "\n",
        "$\\frac{df(TensorX,TensorY)}{dTensorY} = 2TensorY$"
      ]
    },
    {
      "cell_type": "code",
      "execution_count": 9,
      "id": "3df4017f",
      "metadata": {
        "id": "3df4017f",
        "outputId": "f705d6bf-df80-4281-bf21-046e0f2580db",
        "colab": {
          "base_uri": "https://localhost:8080/"
        }
      },
      "outputs": [
        {
          "output_type": "execute_result",
          "data": {
            "text/plain": [
              "tensor(10.)"
            ]
          },
          "metadata": {},
          "execution_count": 9
        }
      ],
      "source": [
        "#Partial Derivative of x^2 + y^2 wrt x at x=5.0 and y=5.0\n",
        "TensorX.grad"
      ]
    },
    {
      "cell_type": "code",
      "execution_count": 10,
      "id": "850ca6e7",
      "metadata": {
        "id": "850ca6e7",
        "outputId": "5375db69-c771-4433-ffd5-03d1da271f20",
        "colab": {
          "base_uri": "https://localhost:8080/"
        }
      },
      "outputs": [
        {
          "output_type": "execute_result",
          "data": {
            "text/plain": [
              "tensor(10.)"
            ]
          },
          "metadata": {},
          "execution_count": 10
        }
      ],
      "source": [
        "#Partial Derivative of x^2 + y^2 wrt y at y=5.0 and y=5.0 => 2x\n",
        "TensorY.grad"
      ]
    },
    {
      "cell_type": "code",
      "execution_count": 11,
      "id": "bd0d7da7",
      "metadata": {
        "id": "bd0d7da7"
      },
      "outputs": [],
      "source": [
        "TensorX = torch.tensor(5.0,requires_grad=True)\n",
        "TensorY = torch.tensor(5.0,requires_grad=True)"
      ]
    },
    {
      "cell_type": "markdown",
      "id": "eed5b2cf",
      "metadata": {
        "id": "eed5b2cf"
      },
      "source": [
        "$ f(TensorX,TensorY) = TensorX^2 * TensorY^2$"
      ]
    },
    {
      "cell_type": "code",
      "execution_count": 12,
      "id": "46795578",
      "metadata": {
        "id": "46795578"
      },
      "outputs": [],
      "source": [
        "f2 = TensorX**2 * TensorY**2"
      ]
    },
    {
      "cell_type": "markdown",
      "id": "f8096505",
      "metadata": {
        "id": "f8096505"
      },
      "source": [
        "$\\frac{df2(TensorX,TensorY)}{dTensorX} = 2TensorX*TensorY^2$\n",
        "\n",
        "$\\frac{df2(TensorX,TensorY)}{dTensorY} = 2TensorY*TensorX^2$"
      ]
    },
    {
      "cell_type": "code",
      "execution_count": 13,
      "id": "adff984a",
      "metadata": {
        "id": "adff984a"
      },
      "outputs": [],
      "source": [
        "f2.backward()"
      ]
    },
    {
      "cell_type": "code",
      "execution_count": 14,
      "id": "0cb68991",
      "metadata": {
        "id": "0cb68991",
        "outputId": "da1bee6f-001a-4dcf-d07c-d168da075497",
        "colab": {
          "base_uri": "https://localhost:8080/"
        }
      },
      "outputs": [
        {
          "output_type": "execute_result",
          "data": {
            "text/plain": [
              "tensor(250.)"
            ]
          },
          "metadata": {},
          "execution_count": 14
        }
      ],
      "source": [
        "#Partial Derivative of TensorX**2 * TensorY**2 wrt TensorX is 2TensorX*TensorY^2 .\n",
        "#Value at x = 5 and y = 5 is 250\n",
        "TensorX.grad"
      ]
    },
    {
      "cell_type": "code",
      "execution_count": 15,
      "id": "1c841c11",
      "metadata": {
        "id": "1c841c11",
        "outputId": "129207f0-dfb2-4783-be77-46f3fb53fe31",
        "colab": {
          "base_uri": "https://localhost:8080/"
        }
      },
      "outputs": [
        {
          "output_type": "execute_result",
          "data": {
            "text/plain": [
              "tensor(250.)"
            ]
          },
          "metadata": {},
          "execution_count": 15
        }
      ],
      "source": [
        "#Partial Derivative of TensorX**2 * TensorY**2 wrt TensorY is 2TensorX*TensorY^2 .\n",
        "#Value at x = 5 and y = 5 is 250\n",
        "TensorY.grad"
      ]
    },
    {
      "cell_type": "markdown",
      "id": "def80543",
      "metadata": {
        "id": "def80543"
      },
      "source": [
        "# Successive Differentiation"
      ]
    },
    {
      "cell_type": "code",
      "execution_count": 16,
      "id": "68c93fa1",
      "metadata": {
        "id": "68c93fa1"
      },
      "outputs": [],
      "source": [
        "from torch.autograd import grad\n",
        "\n",
        "def nth_Derivative(f,wrtParameter,n=2):\n",
        "    \n",
        "    for iter in range(n):\n",
        "        grads = grad(f,wrtParameter,create_graph = True)[0]\n",
        "        f = grads.sum()\n",
        "        \n",
        "    return grads"
      ]
    },
    {
      "cell_type": "markdown",
      "id": "d10a09d3",
      "metadata": {
        "id": "d10a09d3"
      },
      "source": [
        "$ f3(TensorX) = TensorX^2 + TensorX^3$\n",
        "\n",
        "$ f3'(TensorX) = 2TensorX + 3TensorX^2$\n",
        "\n",
        "$ f3''(TensorX) = 2 + 6TensorX$\n",
        "\n",
        "$ f3''(TensorX = 5) =2 + 30 = 32 $\n"
      ]
    },
    {
      "cell_type": "code",
      "execution_count": 17,
      "id": "478e1084",
      "metadata": {
        "id": "478e1084"
      },
      "outputs": [],
      "source": [
        "TensorX = torch.tensor(5.0,requires_grad=True)"
      ]
    },
    {
      "cell_type": "code",
      "execution_count": 18,
      "id": "ae3219a1",
      "metadata": {
        "id": "ae3219a1",
        "outputId": "591bc11c-9b36-452a-fc28-17394913c1db",
        "colab": {
          "base_uri": "https://localhost:8080/"
        }
      },
      "outputs": [
        {
          "output_type": "execute_result",
          "data": {
            "text/plain": [
              "tensor(32., grad_fn=<AddBackward0>)"
            ]
          },
          "metadata": {},
          "execution_count": 18
        }
      ],
      "source": [
        "f3 = TensorX**2 + TensorX**3\n",
        "\n",
        "nth_Derivative(f3,TensorX)"
      ]
    },
    {
      "cell_type": "code",
      "execution_count": 18,
      "id": "ce4dbcd1",
      "metadata": {
        "id": "ce4dbcd1"
      },
      "outputs": [],
      "source": [
        ""
      ]
    }
  ],
  "metadata": {
    "kernelspec": {
      "display_name": "Python 3 (ipykernel)",
      "language": "python",
      "name": "python3"
    },
    "language_info": {
      "codemirror_mode": {
        "name": "ipython",
        "version": 3
      },
      "file_extension": ".py",
      "mimetype": "text/x-python",
      "name": "python",
      "nbconvert_exporter": "python",
      "pygments_lexer": "ipython3",
      "version": "3.8.10"
    },
    "colab": {
      "name": "Pytorch_AutoGrad.ipynb",
      "provenance": []
    }
  },
  "nbformat": 4,
  "nbformat_minor": 5
}
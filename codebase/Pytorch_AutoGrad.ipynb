{
 "cells": [
  {
   "cell_type": "code",
   "execution_count": 4,
   "id": "d8475a72",
   "metadata": {},
   "outputs": [
    {
     "ename": "ModuleNotFoundError",
     "evalue": "No module named 'torch'",
     "output_type": "error",
     "traceback": [
      "\u001b[0;31m---------------------------------------------------------------------------\u001b[0m",
      "\u001b[0;31mModuleNotFoundError\u001b[0m                       Traceback (most recent call last)",
      "Input \u001b[0;32mIn [4]\u001b[0m, in \u001b[0;36m<cell line: 1>\u001b[0;34m()\u001b[0m\n\u001b[0;32m----> 1\u001b[0m \u001b[38;5;28;01mimport\u001b[39;00m \u001b[38;5;21;01mtorch\u001b[39;00m\n\u001b[1;32m      2\u001b[0m \u001b[38;5;28;01mimport\u001b[39;00m \u001b[38;5;21;01mnumpy\u001b[39;00m \u001b[38;5;28;01mas\u001b[39;00m \u001b[38;5;21;01mnp\u001b[39;00m\n\u001b[1;32m      3\u001b[0m \u001b[38;5;28;01mimport\u001b[39;00m \u001b[38;5;21;01mos\u001b[39;00m\n",
      "\u001b[0;31mModuleNotFoundError\u001b[0m: No module named 'torch'"
     ]
    }
   ],
   "source": [
    "import torch\n",
    "import numpy as np\n",
    "import os"
   ]
  },
  {
   "cell_type": "markdown",
   "id": "f5b9211a",
   "metadata": {},
   "source": [
    "# Derivatives , Partial Derivative and Successive Differentiation"
   ]
  },
  {
   "cell_type": "code",
   "execution_count": 20,
   "id": "10276476",
   "metadata": {},
   "outputs": [
    {
     "data": {
      "text/plain": [
       "tensor(5., requires_grad=True)"
      ]
     },
     "execution_count": 20,
     "metadata": {},
     "output_type": "execute_result"
    }
   ],
   "source": [
    "TensorX = torch.tensor(5.0,requires_grad=True)\n",
    "TensorX"
   ]
  },
  {
   "cell_type": "markdown",
   "id": "9af67d20",
   "metadata": {},
   "source": [
    "$TensorX = 5.0$\n",
    "\n",
    "$y = TensorX^2 => f(x) = TensorX^2$"
   ]
  },
  {
   "cell_type": "code",
   "execution_count": 21,
   "id": "c1539a2d",
   "metadata": {},
   "outputs": [
    {
     "data": {
      "text/plain": [
       "tensor(25., grad_fn=<PowBackward0>)"
      ]
     },
     "execution_count": 21,
     "metadata": {},
     "output_type": "execute_result"
    }
   ],
   "source": [
    "y = TensorX ** 2\n",
    "y"
   ]
  },
  {
   "cell_type": "markdown",
   "id": "ec5802c7",
   "metadata": {},
   "source": [
    "$\\frac{dy}{dx} = 2x$\n",
    "\n",
    "$f'(x=5.0) = 2 * 5.0 = 10$\n"
   ]
  },
  {
   "cell_type": "code",
   "execution_count": 22,
   "id": "faae45e9",
   "metadata": {},
   "outputs": [
    {
     "data": {
      "text/plain": [
       "tensor(10.)"
      ]
     },
     "execution_count": 22,
     "metadata": {},
     "output_type": "execute_result"
    }
   ],
   "source": [
    "#Derivative of x^2 is 2x.\n",
    "#We are finding the derivative at x = 5\n",
    "#Value should be 10\n",
    "\n",
    "y.backward()\n",
    "TensorX.grad"
   ]
  },
  {
   "cell_type": "markdown",
   "id": "55db05bb",
   "metadata": {},
   "source": [
    "# Partial Derivative"
   ]
  },
  {
   "cell_type": "code",
   "execution_count": 36,
   "id": "b3560159",
   "metadata": {},
   "outputs": [],
   "source": [
    "TensorX = torch.tensor(5.0,requires_grad=True)\n",
    "TensorY = torch.tensor(5.0,requires_grad=True)"
   ]
  },
  {
   "cell_type": "markdown",
   "id": "6be158bd",
   "metadata": {},
   "source": [
    "$ f(TensorX,TensorY) = TensorX^2 + TensorY^2$\n"
   ]
  },
  {
   "cell_type": "code",
   "execution_count": 37,
   "id": "37b9cbc8",
   "metadata": {},
   "outputs": [
    {
     "data": {
      "text/plain": [
       "tensor(50., grad_fn=<AddBackward0>)"
      ]
     },
     "execution_count": 37,
     "metadata": {},
     "output_type": "execute_result"
    }
   ],
   "source": [
    "f = TensorX**2 + TensorY**2\n",
    "f"
   ]
  },
  {
   "cell_type": "code",
   "execution_count": 38,
   "id": "a66fffbf",
   "metadata": {},
   "outputs": [],
   "source": [
    "f.backward()"
   ]
  },
  {
   "cell_type": "code",
   "execution_count": 40,
   "id": "5bcd2d81",
   "metadata": {},
   "outputs": [
    {
     "data": {
      "text/plain": [
       "<AddBackward0 at 0x7efec88bb160>"
      ]
     },
     "execution_count": 40,
     "metadata": {},
     "output_type": "execute_result"
    }
   ],
   "source": [
    "#Last operation\n",
    "f.grad_fn"
   ]
  },
  {
   "cell_type": "markdown",
   "id": "93029bef",
   "metadata": {},
   "source": [
    "$\\frac{df(TensorX,TensorY)}{dTensorX} = 2TensorX$\n",
    "\n",
    "$\\frac{df(TensorX,TensorY)}{dTensorY} = 2TensorY$"
   ]
  },
  {
   "cell_type": "code",
   "execution_count": 41,
   "id": "3df4017f",
   "metadata": {},
   "outputs": [
    {
     "data": {
      "text/plain": [
       "tensor(10.)"
      ]
     },
     "execution_count": 41,
     "metadata": {},
     "output_type": "execute_result"
    }
   ],
   "source": [
    "#Partial Derivative of x^2 + y^2 wrt x at x=5.0 and y=5.0\n",
    "TensorX.grad"
   ]
  },
  {
   "cell_type": "code",
   "execution_count": 42,
   "id": "850ca6e7",
   "metadata": {},
   "outputs": [
    {
     "data": {
      "text/plain": [
       "tensor(10.)"
      ]
     },
     "execution_count": 42,
     "metadata": {},
     "output_type": "execute_result"
    }
   ],
   "source": [
    "#Partial Derivative of x^2 + y^2 wrt y at y=5.0 and y=5.0 => 2x\n",
    "TensorY.grad"
   ]
  },
  {
   "cell_type": "code",
   "execution_count": 51,
   "id": "bd0d7da7",
   "metadata": {},
   "outputs": [],
   "source": [
    "TensorX = torch.tensor(5.0,requires_grad=True)\n",
    "TensorY = torch.tensor(5.0,requires_grad=True)"
   ]
  },
  {
   "cell_type": "markdown",
   "id": "eed5b2cf",
   "metadata": {},
   "source": [
    "$ f(TensorX,TensorY) = TensorX^2 * TensorY^2$"
   ]
  },
  {
   "cell_type": "code",
   "execution_count": 52,
   "id": "46795578",
   "metadata": {},
   "outputs": [],
   "source": [
    "f2 = TensorX**2 * TensorY**2"
   ]
  },
  {
   "cell_type": "markdown",
   "id": "f8096505",
   "metadata": {},
   "source": [
    "$\\frac{df2(TensorX,TensorY)}{dTensorX} = 2TensorX*TensorY^2$\n",
    "\n",
    "$\\frac{df2(TensorX,TensorY)}{dTensorY} = 2TensorY*TensorX^2$"
   ]
  },
  {
   "cell_type": "code",
   "execution_count": 53,
   "id": "adff984a",
   "metadata": {},
   "outputs": [],
   "source": [
    "f2.backward()"
   ]
  },
  {
   "cell_type": "code",
   "execution_count": 54,
   "id": "0cb68991",
   "metadata": {},
   "outputs": [
    {
     "data": {
      "text/plain": [
       "tensor(250.)"
      ]
     },
     "execution_count": 54,
     "metadata": {},
     "output_type": "execute_result"
    }
   ],
   "source": [
    "#Partial Derivative of TensorX**2 * TensorY**2 wrt TensorX is 2TensorX*TensorY^2 .\n",
    "#Value at x = 5 and y = 5 is 250\n",
    "TensorX.grad"
   ]
  },
  {
   "cell_type": "code",
   "execution_count": 56,
   "id": "1c841c11",
   "metadata": {},
   "outputs": [
    {
     "data": {
      "text/plain": [
       "tensor(250.)"
      ]
     },
     "execution_count": 56,
     "metadata": {},
     "output_type": "execute_result"
    }
   ],
   "source": [
    "#Partial Derivative of TensorX**2 * TensorY**2 wrt TensorY is 2TensorX*TensorY^2 .\n",
    "#Value at x = 5 and y = 5 is 250\n",
    "TensorY.grad"
   ]
  },
  {
   "cell_type": "markdown",
   "id": "def80543",
   "metadata": {},
   "source": [
    "# Successive Differentiation"
   ]
  },
  {
   "cell_type": "code",
   "execution_count": 60,
   "id": "68c93fa1",
   "metadata": {},
   "outputs": [],
   "source": [
    "from torch.autograd import grad\n",
    "\n",
    "def nth_Derivative(f,wrtParameter,n=2):\n",
    "    \n",
    "    for iter in range(n):\n",
    "        grads = grad(f,wrtParameter,create_graph = True)[0]\n",
    "        f = grads.sum()\n",
    "        \n",
    "    return grads"
   ]
  },
  {
   "cell_type": "markdown",
   "id": "d10a09d3",
   "metadata": {},
   "source": [
    "$ f3(TensorX) = TensorX^2 + TensorX^3$\n",
    "\n",
    "$ f3'(TensorX) = 2TensorX + 3TensorX^2$\n",
    "\n",
    "$ f3''(TensorX) = 2 + 6TensorX$\n",
    "\n",
    "$ f3''(TensorX = 5) =2 + 30 = 32 $\n"
   ]
  },
  {
   "cell_type": "code",
   "execution_count": 61,
   "id": "478e1084",
   "metadata": {},
   "outputs": [],
   "source": [
    "TensorX = torch.tensor(5.0,requires_grad=True)"
   ]
  },
  {
   "cell_type": "code",
   "execution_count": 62,
   "id": "ae3219a1",
   "metadata": {},
   "outputs": [
    {
     "data": {
      "text/plain": [
       "tensor(32., grad_fn=<AddBackward0>)"
      ]
     },
     "execution_count": 62,
     "metadata": {},
     "output_type": "execute_result"
    }
   ],
   "source": [
    "f3 = TensorX**2 + TensorX**3\n",
    "\n",
    "nth_Derivative(f3,TensorX)"
   ]
  },
  {
   "cell_type": "code",
   "execution_count": null,
   "id": "ce4dbcd1",
   "metadata": {},
   "outputs": [],
   "source": []
  }
 ],
 "metadata": {
  "kernelspec": {
   "display_name": "Python 3 (ipykernel)",
   "language": "python",
   "name": "python3"
  },
  "language_info": {
   "codemirror_mode": {
    "name": "ipython",
    "version": 3
   },
   "file_extension": ".py",
   "mimetype": "text/x-python",
   "name": "python",
   "nbconvert_exporter": "python",
   "pygments_lexer": "ipython3",
   "version": "3.8.10"
  }
 },
 "nbformat": 4,
 "nbformat_minor": 5
}

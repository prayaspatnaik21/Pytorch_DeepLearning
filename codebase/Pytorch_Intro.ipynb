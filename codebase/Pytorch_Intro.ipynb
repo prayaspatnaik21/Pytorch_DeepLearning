{
 "cells": [
  {
   "cell_type": "code",
   "execution_count": 5,
   "id": "fe59d5ea",
   "metadata": {},
   "outputs": [],
   "source": [
    "import torch\n",
    "import numpy as np\n",
    "import os"
   ]
  },
  {
   "cell_type": "code",
   "execution_count": 6,
   "id": "bdcd2730",
   "metadata": {},
   "outputs": [
    {
     "name": "stdout",
     "output_type": "stream",
     "text": [
      "1.10.2\n"
     ]
    }
   ],
   "source": [
    "print(torch.__version__)"
   ]
  },
  {
   "cell_type": "code",
   "execution_count": 7,
   "id": "699cbf1e",
   "metadata": {},
   "outputs": [
    {
     "data": {
      "text/plain": [
       "False"
      ]
     },
     "execution_count": 7,
     "metadata": {},
     "output_type": "execute_result"
    }
   ],
   "source": [
    "#We are using pytroch on CPU\n",
    "#To verify that we are working on CPU\n",
    "\n",
    "torch.cuda.is_available()"
   ]
  },
  {
   "cell_type": "code",
   "execution_count": 8,
   "id": "1856268d",
   "metadata": {},
   "outputs": [
    {
     "data": {
      "text/plain": [
       "'cpu'"
      ]
     },
     "execution_count": 8,
     "metadata": {},
     "output_type": "execute_result"
    }
   ],
   "source": [
    "#We are using cpu.\n",
    "#We are using to follow the general coding manner\n",
    "\n",
    "device = \"cuda\" if torch.cuda.is_available() else \"cpu\"\n",
    "device"
   ]
  },
  {
   "cell_type": "code",
   "execution_count": 10,
   "id": "c97132e6",
   "metadata": {},
   "outputs": [
    {
     "data": {
      "text/plain": [
       "tensor([[ 1,  2,  3],\n",
       "        [11, 22, 33]])"
      ]
     },
     "execution_count": 10,
     "metadata": {},
     "output_type": "execute_result"
    }
   ],
   "source": [
    "Initial_tensor = torch.tensor([[1,2,3],[11,22,33]])\n",
    "Initial_tensor"
   ]
  },
  {
   "cell_type": "code",
   "execution_count": 11,
   "id": "9f7da100",
   "metadata": {},
   "outputs": [
    {
     "data": {
      "text/plain": [
       "torch.int64"
      ]
     },
     "execution_count": 11,
     "metadata": {},
     "output_type": "execute_result"
    }
   ],
   "source": [
    "Initial_tensor.dtype"
   ]
  },
  {
   "cell_type": "code",
   "execution_count": 12,
   "id": "1ec41b13",
   "metadata": {},
   "outputs": [
    {
     "data": {
      "text/plain": [
       "device(type='cpu')"
      ]
     },
     "execution_count": 12,
     "metadata": {},
     "output_type": "execute_result"
    }
   ],
   "source": [
    "Initial_tensor.device"
   ]
  },
  {
   "cell_type": "markdown",
   "id": "2e20ad71",
   "metadata": {},
   "source": [
    "### shape of the Tensor"
   ]
  },
  {
   "cell_type": "code",
   "execution_count": 22,
   "id": "5448e45a",
   "metadata": {},
   "outputs": [
    {
     "data": {
      "text/plain": [
       "torch.Size([2, 3])"
      ]
     },
     "execution_count": 22,
     "metadata": {},
     "output_type": "execute_result"
    }
   ],
   "source": [
    "Initial_tensor.shape"
   ]
  },
  {
   "cell_type": "markdown",
   "id": "38c9c656",
   "metadata": {},
   "source": [
    "while doing the BackPropagation , will we require this tensor or not? we can check this via function requires_grad"
   ]
  },
  {
   "cell_type": "code",
   "execution_count": 23,
   "id": "3bddfe23",
   "metadata": {},
   "outputs": [
    {
     "data": {
      "text/plain": [
       "False"
      ]
     },
     "execution_count": 23,
     "metadata": {},
     "output_type": "execute_result"
    }
   ],
   "source": [
    "Initial_tensor.requires_grad"
   ]
  },
  {
   "cell_type": "code",
   "execution_count": 24,
   "id": "c83ab56e",
   "metadata": {},
   "outputs": [
    {
     "data": {
      "text/plain": [
       "tensor([[ 1.,  2.,  3.],\n",
       "        [11., 22., 33.]], requires_grad=True)"
      ]
     },
     "execution_count": 24,
     "metadata": {},
     "output_type": "execute_result"
    }
   ],
   "source": [
    "tensor = torch.tensor([[1,2,3],[11,22,33]],dtype=torch.float,device=device,requires_grad=True)\n",
    "tensor"
   ]
  },
  {
   "cell_type": "markdown",
   "id": "9af238c9",
   "metadata": {},
   "source": [
    "### Checking the default data type"
   ]
  },
  {
   "cell_type": "code",
   "execution_count": 25,
   "id": "fd9105bd",
   "metadata": {},
   "outputs": [
    {
     "data": {
      "text/plain": [
       "torch.float32"
      ]
     },
     "execution_count": 25,
     "metadata": {},
     "output_type": "execute_result"
    }
   ],
   "source": [
    "tensor.dtype"
   ]
  },
  {
   "cell_type": "code",
   "execution_count": 26,
   "id": "b7fe84dc",
   "metadata": {},
   "outputs": [
    {
     "data": {
      "text/plain": [
       "device(type='cpu')"
      ]
     },
     "execution_count": 26,
     "metadata": {},
     "output_type": "execute_result"
    }
   ],
   "source": [
    "tensor.device"
   ]
  },
  {
   "cell_type": "code",
   "execution_count": 27,
   "id": "9a7a5b2d",
   "metadata": {},
   "outputs": [
    {
     "data": {
      "text/plain": [
       "True"
      ]
     },
     "execution_count": 27,
     "metadata": {},
     "output_type": "execute_result"
    }
   ],
   "source": [
    "tensor.requires_grad"
   ]
  },
  {
   "cell_type": "markdown",
   "id": "1b447b6c",
   "metadata": {},
   "source": [
    "### Other commonly used Tensors"
   ]
  },
  {
   "cell_type": "code",
   "execution_count": 28,
   "id": "d8341d54",
   "metadata": {},
   "outputs": [
    {
     "data": {
      "text/plain": [
       "tensor([[0., 0., 0.],\n",
       "        [0., 0., 0.],\n",
       "        [0., 0., 0.]])"
      ]
     },
     "execution_count": 28,
     "metadata": {},
     "output_type": "execute_result"
    }
   ],
   "source": [
    "empty_tensor = torch.empty(size=(3,3))\n",
    "empty_tensor"
   ]
  },
  {
   "cell_type": "code",
   "execution_count": 30,
   "id": "b45991f0",
   "metadata": {},
   "outputs": [
    {
     "data": {
      "text/plain": [
       "tensor([[0., 0., 0.],\n",
       "        [0., 0., 0.],\n",
       "        [0., 0., 0.]])"
      ]
     },
     "execution_count": 30,
     "metadata": {},
     "output_type": "execute_result"
    }
   ],
   "source": [
    "zero_tensor = torch.zeros(size=(3,3))\n",
    "zero_tensor"
   ]
  },
  {
   "cell_type": "code",
   "execution_count": 31,
   "id": "76a1108d",
   "metadata": {},
   "outputs": [
    {
     "data": {
      "text/plain": [
       "tensor([[1., 1., 1.],\n",
       "        [1., 1., 1.],\n",
       "        [1., 1., 1.]])"
      ]
     },
     "execution_count": 31,
     "metadata": {},
     "output_type": "execute_result"
    }
   ],
   "source": [
    "ones_tensor = torch.ones(size=(3,3))\n",
    "ones_tensor"
   ]
  },
  {
   "cell_type": "code",
   "execution_count": 32,
   "id": "d814a35e",
   "metadata": {},
   "outputs": [
    {
     "data": {
      "text/plain": [
       "tensor([[0.5991, 0.5470, 0.3962],\n",
       "        [0.5098, 0.9266, 0.2389],\n",
       "        [0.1023, 0.6826, 0.7313]])"
      ]
     },
     "execution_count": 32,
     "metadata": {},
     "output_type": "execute_result"
    }
   ],
   "source": [
    "random_tensor = torch.rand(size=(3,3))\n",
    "random_tensor"
   ]
  },
  {
   "cell_type": "code",
   "execution_count": 33,
   "id": "6ce3b0a1",
   "metadata": {},
   "outputs": [
    {
     "data": {
      "text/plain": [
       "tensor([[1., 0., 0.],\n",
       "        [0., 1., 0.],\n",
       "        [0., 0., 1.]])"
      ]
     },
     "execution_count": 33,
     "metadata": {},
     "output_type": "execute_result"
    }
   ],
   "source": [
    "identity_tensor = torch.eye(3)\n",
    "identity_tensor"
   ]
  },
  {
   "cell_type": "code",
   "execution_count": 34,
   "id": "e5691a19",
   "metadata": {},
   "outputs": [
    {
     "data": {
      "text/plain": [
       "tensor([0, 1, 2, 3, 4, 5, 6])"
      ]
     },
     "execution_count": 34,
     "metadata": {},
     "output_type": "execute_result"
    }
   ],
   "source": [
    "arange_tensor = torch.arange(start=0,end=7,step=1)\n",
    "arange_tensor"
   ]
  },
  {
   "cell_type": "code",
   "execution_count": 36,
   "id": "0bcc1064",
   "metadata": {},
   "outputs": [
    {
     "data": {
      "text/plain": [
       "tensor([0.0000, 2.3333, 4.6667, 7.0000])"
      ]
     },
     "execution_count": 36,
     "metadata": {},
     "output_type": "execute_result"
    }
   ],
   "source": [
    "linspace_tensor = torch.linspace(start=0,end=7,steps=4)\n",
    "linspace_tensor"
   ]
  },
  {
   "cell_type": "code",
   "execution_count": 37,
   "id": "b0640d0b",
   "metadata": {},
   "outputs": [
    {
     "data": {
      "text/plain": [
       "tensor([[-0.2924, -0.2975,  0.3969, -1.5535],\n",
       "        [-0.2796, -0.5728, -0.0850, -0.8105],\n",
       "        [ 1.5558, -0.5581, -0.3991,  0.1502]])"
      ]
     },
     "execution_count": 37,
     "metadata": {},
     "output_type": "execute_result"
    }
   ],
   "source": [
    "normal_dist_tensor = torch.rand(size=(3,4)).normal_(mean=0,std=1)\n",
    "normal_dist_tensor"
   ]
  },
  {
   "cell_type": "code",
   "execution_count": 40,
   "id": "6a0e4206",
   "metadata": {},
   "outputs": [
    {
     "data": {
      "text/plain": [
       "tensor([[4.2242, 5.9219, 4.4512, 4.5396],\n",
       "        [5.4885, 3.0079, 4.9478, 5.5124],\n",
       "        [4.6874, 4.7506, 4.3705, 5.6374]])"
      ]
     },
     "execution_count": 40,
     "metadata": {},
     "output_type": "execute_result"
    }
   ],
   "source": [
    "uniform_dist_tensor = torch.rand(size=(3,4)).uniform_(3,6)\n",
    "uniform_dist_tensor"
   ]
  },
  {
   "cell_type": "code",
   "execution_count": 41,
   "id": "e71f14cb",
   "metadata": {},
   "outputs": [
    {
     "data": {
      "text/plain": [
       "tensor([[1., 0., 0., 0., 0.],\n",
       "        [0., 1., 0., 0., 0.],\n",
       "        [0., 0., 1., 0., 0.],\n",
       "        [0., 0., 0., 1., 0.],\n",
       "        [0., 0., 0., 0., 1.]])"
      ]
     },
     "execution_count": 41,
     "metadata": {},
     "output_type": "execute_result"
    }
   ],
   "source": [
    "diagonal_tensor = torch.diag(torch.ones(5))\n",
    "diagonal_tensor"
   ]
  },
  {
   "cell_type": "code",
   "execution_count": 42,
   "id": "efddc0f9",
   "metadata": {},
   "outputs": [
    {
     "data": {
      "text/plain": [
       "tensor([[5., 0., 0., 0., 0.],\n",
       "        [0., 5., 0., 0., 0.],\n",
       "        [0., 0., 5., 0., 0.],\n",
       "        [0., 0., 0., 5., 0.],\n",
       "        [0., 0., 0., 0., 5.]])"
      ]
     },
     "execution_count": 42,
     "metadata": {},
     "output_type": "execute_result"
    }
   ],
   "source": [
    "diagonal_tensor = torch.diag(5*torch.ones(5))\n",
    "diagonal_tensor"
   ]
  },
  {
   "cell_type": "markdown",
   "id": "0b9e6094",
   "metadata": {},
   "source": [
    "# Conversions to Different Data Types"
   ]
  },
  {
   "cell_type": "code",
   "execution_count": 56,
   "id": "486f3cbb",
   "metadata": {},
   "outputs": [
    {
     "data": {
      "text/plain": [
       "tensor([0, 1, 2, 3])"
      ]
     },
     "execution_count": 56,
     "metadata": {},
     "output_type": "execute_result"
    }
   ],
   "source": [
    "y = torch.arange(4)\n",
    "y"
   ]
  },
  {
   "cell_type": "code",
   "execution_count": 57,
   "id": "6ca2334d",
   "metadata": {},
   "outputs": [
    {
     "data": {
      "text/plain": [
       "tensor([False,  True,  True,  True])"
      ]
     },
     "execution_count": 57,
     "metadata": {},
     "output_type": "execute_result"
    }
   ],
   "source": [
    "y.bool()"
   ]
  },
  {
   "cell_type": "code",
   "execution_count": 58,
   "id": "d2865a6e",
   "metadata": {},
   "outputs": [
    {
     "data": {
      "text/plain": [
       "tensor([0, 1, 2, 3], dtype=torch.int32)"
      ]
     },
     "execution_count": 58,
     "metadata": {},
     "output_type": "execute_result"
    }
   ],
   "source": [
    "y.int()"
   ]
  },
  {
   "cell_type": "code",
   "execution_count": 59,
   "id": "e4d5063b",
   "metadata": {},
   "outputs": [
    {
     "data": {
      "text/plain": [
       "tensor([0, 1, 2, 3], dtype=torch.int16)"
      ]
     },
     "execution_count": 59,
     "metadata": {},
     "output_type": "execute_result"
    }
   ],
   "source": [
    "y.short() #int16"
   ]
  },
  {
   "cell_type": "code",
   "execution_count": 60,
   "id": "8f76630e",
   "metadata": {},
   "outputs": [
    {
     "data": {
      "text/plain": [
       "tensor([0, 1, 2, 3])"
      ]
     },
     "execution_count": 60,
     "metadata": {},
     "output_type": "execute_result"
    }
   ],
   "source": [
    "y.long()"
   ]
  },
  {
   "cell_type": "code",
   "execution_count": 61,
   "id": "b1e5c5b8",
   "metadata": {},
   "outputs": [
    {
     "data": {
      "text/plain": [
       "tensor([0., 1., 2., 3.], dtype=torch.float16)"
      ]
     },
     "execution_count": 61,
     "metadata": {},
     "output_type": "execute_result"
    }
   ],
   "source": [
    "y.half() #float 16 "
   ]
  },
  {
   "cell_type": "code",
   "execution_count": 62,
   "id": "481703d6",
   "metadata": {},
   "outputs": [
    {
     "data": {
      "text/plain": [
       "tensor([0., 1., 2., 3.])"
      ]
     },
     "execution_count": 62,
     "metadata": {},
     "output_type": "execute_result"
    }
   ],
   "source": [
    "y.float() #float 32"
   ]
  },
  {
   "cell_type": "code",
   "execution_count": 63,
   "id": "42ab2bd3",
   "metadata": {},
   "outputs": [
    {
     "data": {
      "text/plain": [
       "tensor([0., 1., 2., 3.], dtype=torch.float64)"
      ]
     },
     "execution_count": 63,
     "metadata": {},
     "output_type": "execute_result"
    }
   ],
   "source": [
    "y.double() #float 64"
   ]
  },
  {
   "cell_type": "code",
   "execution_count": 64,
   "id": "ad5862ba",
   "metadata": {},
   "outputs": [
    {
     "data": {
      "text/plain": [
       "array([[1, 2, 3],\n",
       "       [1, 2, 3]])"
      ]
     },
     "execution_count": 64,
     "metadata": {},
     "output_type": "execute_result"
    }
   ],
   "source": [
    "np_array = np.array([[1,2,3],[1,2,3]])\n",
    "np_array"
   ]
  },
  {
   "cell_type": "code",
   "execution_count": 65,
   "id": "0c2a70da",
   "metadata": {},
   "outputs": [],
   "source": [
    "tensor=torch.from_numpy(np_array)"
   ]
  },
  {
   "cell_type": "code",
   "execution_count": 66,
   "id": "ac57e3d4",
   "metadata": {},
   "outputs": [
    {
     "data": {
      "text/plain": [
       "array([[1, 2, 3],\n",
       "       [1, 2, 3]])"
      ]
     },
     "execution_count": 66,
     "metadata": {},
     "output_type": "execute_result"
    }
   ],
   "source": [
    "tensor.numpy()"
   ]
  },
  {
   "cell_type": "markdown",
   "id": "cf678847",
   "metadata": {},
   "source": [
    "# Mathematical Operations"
   ]
  },
  {
   "cell_type": "code",
   "execution_count": 68,
   "id": "9af7e6c3",
   "metadata": {},
   "outputs": [
    {
     "data": {
      "text/plain": [
       "(torch.Size([3]), torch.Size([3]))"
      ]
     },
     "execution_count": 68,
     "metadata": {},
     "output_type": "execute_result"
    }
   ],
   "source": [
    "x = torch.arange(start=10,end=20,step=4)\n",
    "y = torch.arange(start=5,end=15,step=4)\n",
    "\n",
    "x.shape,y.shape"
   ]
  },
  {
   "cell_type": "code",
   "execution_count": 70,
   "id": "14c11fa5",
   "metadata": {},
   "outputs": [
    {
     "data": {
      "text/plain": [
       "tensor([10, 14, 18])"
      ]
     },
     "execution_count": 70,
     "metadata": {},
     "output_type": "execute_result"
    }
   ],
   "source": [
    "x"
   ]
  },
  {
   "cell_type": "code",
   "execution_count": 71,
   "id": "8d3ed2ef",
   "metadata": {},
   "outputs": [
    {
     "data": {
      "text/plain": [
       "tensor([ 5,  9, 13])"
      ]
     },
     "execution_count": 71,
     "metadata": {},
     "output_type": "execute_result"
    }
   ],
   "source": [
    "y"
   ]
  },
  {
   "cell_type": "code",
   "execution_count": 69,
   "id": "ad2b5a3f",
   "metadata": {},
   "outputs": [
    {
     "data": {
      "text/plain": [
       "tensor([15, 23, 31])"
      ]
     },
     "execution_count": 69,
     "metadata": {},
     "output_type": "execute_result"
    }
   ],
   "source": [
    "x+y"
   ]
  },
  {
   "cell_type": "code",
   "execution_count": 72,
   "id": "3a65974b",
   "metadata": {},
   "outputs": [
    {
     "data": {
      "text/plain": [
       "tensor([ 50, 126, 234])"
      ]
     },
     "execution_count": 72,
     "metadata": {},
     "output_type": "execute_result"
    }
   ],
   "source": [
    "#Element wise multiplication\n",
    "\n",
    "x*y"
   ]
  },
  {
   "cell_type": "code",
   "execution_count": 73,
   "id": "bd8159da",
   "metadata": {},
   "outputs": [
    {
     "data": {
      "text/plain": [
       "tensor([5, 5, 5])"
      ]
     },
     "execution_count": 73,
     "metadata": {},
     "output_type": "execute_result"
    }
   ],
   "source": [
    "x-y"
   ]
  },
  {
   "cell_type": "code",
   "execution_count": 74,
   "id": "f398ea79",
   "metadata": {},
   "outputs": [
    {
     "data": {
      "text/plain": [
       "tensor([2.0000, 1.5556, 1.3846])"
      ]
     },
     "execution_count": 74,
     "metadata": {},
     "output_type": "execute_result"
    }
   ],
   "source": [
    "#Element wise divison\n",
    "x/y"
   ]
  },
  {
   "cell_type": "code",
   "execution_count": 75,
   "id": "ffee470c",
   "metadata": {},
   "outputs": [
    {
     "data": {
      "text/plain": [
       "tensor([1., 1., 1.])"
      ]
     },
     "execution_count": 75,
     "metadata": {},
     "output_type": "execute_result"
    }
   ],
   "source": [
    "z = torch.ones(3)\n",
    "z"
   ]
  },
  {
   "cell_type": "code",
   "execution_count": 76,
   "id": "008f88ec",
   "metadata": {},
   "outputs": [
    {
     "data": {
      "text/plain": [
       "tensor([11., 15., 19.])"
      ]
     },
     "execution_count": 76,
     "metadata": {},
     "output_type": "execute_result"
    }
   ],
   "source": [
    "z=z+x\n",
    "z"
   ]
  },
  {
   "cell_type": "code",
   "execution_count": 77,
   "id": "cbc57725",
   "metadata": {},
   "outputs": [
    {
     "data": {
      "text/plain": [
       "tensor([21., 29., 37.])"
      ]
     },
     "execution_count": 77,
     "metadata": {},
     "output_type": "execute_result"
    }
   ],
   "source": [
    "#inplace addition\n",
    "\n",
    "z.add_(x)\n",
    "z"
   ]
  },
  {
   "cell_type": "code",
   "execution_count": 78,
   "id": "bef916cc",
   "metadata": {},
   "outputs": [
    {
     "data": {
      "text/plain": [
       "tensor([100, 196, 324])"
      ]
     },
     "execution_count": 78,
     "metadata": {},
     "output_type": "execute_result"
    }
   ],
   "source": [
    "x.pow(2)"
   ]
  },
  {
   "cell_type": "code",
   "execution_count": 79,
   "id": "05ef5b9e",
   "metadata": {},
   "outputs": [
    {
     "data": {
      "text/plain": [
       "tensor([100, 196, 324])"
      ]
     },
     "execution_count": 79,
     "metadata": {},
     "output_type": "execute_result"
    }
   ],
   "source": [
    "x**2"
   ]
  },
  {
   "cell_type": "code",
   "execution_count": 80,
   "id": "8eb070ee",
   "metadata": {},
   "outputs": [
    {
     "data": {
      "text/plain": [
       "tensor([True, True, True])"
      ]
     },
     "execution_count": 80,
     "metadata": {},
     "output_type": "execute_result"
    }
   ],
   "source": [
    "x>0"
   ]
  },
  {
   "cell_type": "code",
   "execution_count": 81,
   "id": "3f3ca147",
   "metadata": {},
   "outputs": [
    {
     "data": {
      "text/plain": [
       "tensor([[1.2831, 1.3384, 1.9983, 0.8529],\n",
       "        [1.1017, 0.6390, 1.4694, 0.7476],\n",
       "        [1.2445, 0.9890, 2.1799, 1.2641]])"
      ]
     },
     "execution_count": 81,
     "metadata": {},
     "output_type": "execute_result"
    }
   ],
   "source": [
    "#Matrix Multiplication\n",
    "\n",
    "a = torch.rand(size=(3,5))\n",
    "b = torch.rand(size=(5,4))\n",
    "\n",
    "a @ b\n"
   ]
  },
  {
   "cell_type": "code",
   "execution_count": 83,
   "id": "cc0d7e38",
   "metadata": {},
   "outputs": [
    {
     "data": {
      "text/plain": [
       "tensor([[1.2831, 1.3384, 1.9983, 0.8529],\n",
       "        [1.1017, 0.6390, 1.4694, 0.7476],\n",
       "        [1.2445, 0.9890, 2.1799, 1.2641]])"
      ]
     },
     "execution_count": 83,
     "metadata": {},
     "output_type": "execute_result"
    }
   ],
   "source": [
    "#Alternative approch for matrix multiplication\n",
    "\n",
    "a.matmul(b)"
   ]
  },
  {
   "cell_type": "code",
   "execution_count": 85,
   "id": "2b5ace55",
   "metadata": {},
   "outputs": [
    {
     "data": {
      "text/plain": [
       "tensor([[1.4703, 1.3094, 0.6793],\n",
       "        [0.2504, 1.9847, 1.0057],\n",
       "        [0.7023, 2.0825, 2.5454]])"
      ]
     },
     "execution_count": 85,
     "metadata": {},
     "output_type": "execute_result"
    }
   ],
   "source": [
    "A = torch.rand((3,3))\n",
    "A.matrix_exp()"
   ]
  },
  {
   "cell_type": "code",
   "execution_count": 86,
   "id": "230c0d18",
   "metadata": {},
   "outputs": [
    {
     "data": {
      "text/plain": [
       "tensor([[0.2010, 0.6886, 0.5733],\n",
       "        [0.2294, 0.7095, 0.5658],\n",
       "        [0.4044, 1.2988, 1.0371]])"
      ]
     },
     "execution_count": 86,
     "metadata": {},
     "output_type": "execute_result"
    }
   ],
   "source": [
    "A.matrix_power(2)"
   ]
  },
  {
   "cell_type": "code",
   "execution_count": 87,
   "id": "e94e25f1",
   "metadata": {},
   "outputs": [
    {
     "data": {
      "text/plain": [
       "tensor(410)"
      ]
     },
     "execution_count": 87,
     "metadata": {},
     "output_type": "execute_result"
    }
   ],
   "source": [
    "#Dot product of two tensors\n",
    "torch.dot(x,y)"
   ]
  },
  {
   "cell_type": "code",
   "execution_count": 88,
   "id": "2c9cad15",
   "metadata": {},
   "outputs": [
    {
     "data": {
      "text/plain": [
       "tensor([[0.2944, 0.7247, 0.1993],\n",
       "        [0.0587, 0.3846, 0.5264],\n",
       "        [0.3600, 0.9860, 0.6681]])"
      ]
     },
     "execution_count": 88,
     "metadata": {},
     "output_type": "execute_result"
    }
   ],
   "source": [
    "#Broadcasting\n",
    "\n",
    "A"
   ]
  },
  {
   "cell_type": "code",
   "execution_count": 89,
   "id": "5a206be4",
   "metadata": {},
   "outputs": [
    {
     "data": {
      "text/plain": [
       "tensor([[1.2944, 1.7247, 1.1993],\n",
       "        [1.0587, 1.3846, 1.5264],\n",
       "        [1.3600, 1.9860, 1.6681]])"
      ]
     },
     "execution_count": 89,
     "metadata": {},
     "output_type": "execute_result"
    }
   ],
   "source": [
    "A + 1"
   ]
  },
  {
   "cell_type": "code",
   "execution_count": 90,
   "id": "07d1792f",
   "metadata": {},
   "outputs": [
    {
     "data": {
      "text/plain": [
       "tensor([[-0.7056, -0.2753, -0.8007],\n",
       "        [-0.9413, -0.6154, -0.4736],\n",
       "        [-0.6400, -0.0140, -0.3319]])"
      ]
     },
     "execution_count": 90,
     "metadata": {},
     "output_type": "execute_result"
    }
   ],
   "source": [
    "A - 1"
   ]
  },
  {
   "cell_type": "code",
   "execution_count": 91,
   "id": "fb2e2b92",
   "metadata": {},
   "outputs": [
    {
     "data": {
      "text/plain": [
       "tensor([[1.4720, 3.6234, 0.9967],\n",
       "        [0.2935, 1.9229, 2.6319],\n",
       "        [1.8002, 4.9300, 3.3404]])"
      ]
     },
     "execution_count": 91,
     "metadata": {},
     "output_type": "execute_result"
    }
   ],
   "source": [
    "A*5"
   ]
  },
  {
   "cell_type": "code",
   "execution_count": 92,
   "id": "af9cd518",
   "metadata": {},
   "outputs": [
    {
     "data": {
      "text/plain": [
       "torch.Size([3, 3])"
      ]
     },
     "execution_count": 92,
     "metadata": {},
     "output_type": "execute_result"
    }
   ],
   "source": [
    "A.shape"
   ]
  },
  {
   "cell_type": "code",
   "execution_count": 93,
   "id": "0da59c1c",
   "metadata": {},
   "outputs": [],
   "source": [
    "C = torch.ones((1,3))"
   ]
  },
  {
   "cell_type": "code",
   "execution_count": 94,
   "id": "20b20f29",
   "metadata": {},
   "outputs": [
    {
     "data": {
      "text/plain": [
       "tensor([[-0.7056, -0.2753, -0.8007],\n",
       "        [-0.9413, -0.6154, -0.4736],\n",
       "        [-0.6400, -0.0140, -0.3319]])"
      ]
     },
     "execution_count": 94,
     "metadata": {},
     "output_type": "execute_result"
    }
   ],
   "source": [
    "#1s are substracted from each of the rows\n",
    "\n",
    "A - C"
   ]
  },
  {
   "cell_type": "code",
   "execution_count": 95,
   "id": "d9b84172",
   "metadata": {},
   "outputs": [
    {
     "data": {
      "text/plain": [
       "tensor([[1.2944, 1.7247, 1.1993],\n",
       "        [1.0587, 1.3846, 1.5264],\n",
       "        [1.3600, 1.9860, 1.6681]])"
      ]
     },
     "execution_count": 95,
     "metadata": {},
     "output_type": "execute_result"
    }
   ],
   "source": [
    "A + C"
   ]
  },
  {
   "cell_type": "code",
   "execution_count": 96,
   "id": "340ee7c0",
   "metadata": {},
   "outputs": [],
   "source": [
    "D = torch.ones(3,1)"
   ]
  },
  {
   "cell_type": "code",
   "execution_count": 98,
   "id": "e0581738",
   "metadata": {},
   "outputs": [
    {
     "data": {
      "text/plain": [
       "tensor([[-0.7056, -0.2753, -0.8007],\n",
       "        [-0.9413, -0.6154, -0.4736],\n",
       "        [-0.6400, -0.0140, -0.3319]])"
      ]
     },
     "execution_count": 98,
     "metadata": {},
     "output_type": "execute_result"
    }
   ],
   "source": [
    "#Column wise subtractions for 1s\n",
    "A - D"
   ]
  },
  {
   "cell_type": "code",
   "execution_count": 99,
   "id": "7fb34ade",
   "metadata": {},
   "outputs": [
    {
     "data": {
      "text/plain": [
       "tensor([[1.2944, 1.7247, 1.1993],\n",
       "        [1.0587, 1.3846, 1.5264],\n",
       "        [1.3600, 1.9860, 1.6681]])"
      ]
     },
     "execution_count": 99,
     "metadata": {},
     "output_type": "execute_result"
    }
   ],
   "source": [
    "A + D"
   ]
  },
  {
   "cell_type": "code",
   "execution_count": 100,
   "id": "7cbf3a19",
   "metadata": {},
   "outputs": [
    {
     "data": {
      "text/plain": [
       "tensor([[0.2944, 0.7247, 0.1993],\n",
       "        [0.0587, 0.3846, 0.5264],\n",
       "        [0.3600, 0.9860, 0.6681]])"
      ]
     },
     "execution_count": 100,
     "metadata": {},
     "output_type": "execute_result"
    }
   ],
   "source": [
    "A"
   ]
  },
  {
   "cell_type": "code",
   "execution_count": 101,
   "id": "33e75e4d",
   "metadata": {},
   "outputs": [
    {
     "data": {
      "text/plain": [
       "tensor([[1.],\n",
       "        [1.],\n",
       "        [1.]])"
      ]
     },
     "execution_count": 101,
     "metadata": {},
     "output_type": "execute_result"
    }
   ],
   "source": [
    "D"
   ]
  },
  {
   "cell_type": "code",
   "execution_count": 102,
   "id": "9099627c",
   "metadata": {},
   "outputs": [
    {
     "data": {
      "text/plain": [
       "tensor(3.)"
      ]
     },
     "execution_count": 102,
     "metadata": {},
     "output_type": "execute_result"
    }
   ],
   "source": [
    "torch.sum(D)"
   ]
  },
  {
   "cell_type": "code",
   "execution_count": 103,
   "id": "c7d9aebc",
   "metadata": {},
   "outputs": [
    {
     "data": {
      "text/plain": [
       "tensor(4.2022)"
      ]
     },
     "execution_count": 103,
     "metadata": {},
     "output_type": "execute_result"
    }
   ],
   "source": [
    "torch.sum(A)"
   ]
  },
  {
   "cell_type": "code",
   "execution_count": 104,
   "id": "cf652f8a",
   "metadata": {},
   "outputs": [
    {
     "data": {
      "text/plain": [
       "tensor([[0.2944, 0.7247, 0.1993],\n",
       "        [0.0587, 0.3846, 0.5264],\n",
       "        [0.3600, 0.9860, 0.6681]])"
      ]
     },
     "execution_count": 104,
     "metadata": {},
     "output_type": "execute_result"
    }
   ],
   "source": [
    "A"
   ]
  },
  {
   "cell_type": "code",
   "execution_count": 105,
   "id": "23d9bafc",
   "metadata": {},
   "outputs": [
    {
     "data": {
      "text/plain": [
       "tensor(0.9860)"
      ]
     },
     "execution_count": 105,
     "metadata": {},
     "output_type": "execute_result"
    }
   ],
   "source": [
    "torch.max(A)"
   ]
  },
  {
   "cell_type": "code",
   "execution_count": 106,
   "id": "62b4d3b8",
   "metadata": {},
   "outputs": [
    {
     "data": {
      "text/plain": [
       "tensor(0.0587)"
      ]
     },
     "execution_count": 106,
     "metadata": {},
     "output_type": "execute_result"
    }
   ],
   "source": [
    "torch.min(A)"
   ]
  },
  {
   "cell_type": "code",
   "execution_count": 107,
   "id": "775d3f5b",
   "metadata": {},
   "outputs": [
    {
     "data": {
      "text/plain": [
       "tensor(0.4669)"
      ]
     },
     "execution_count": 107,
     "metadata": {},
     "output_type": "execute_result"
    }
   ],
   "source": [
    "torch.mean(A)"
   ]
  },
  {
   "cell_type": "code",
   "execution_count": 108,
   "id": "52798139",
   "metadata": {},
   "outputs": [
    {
     "data": {
      "text/plain": [
       "torch.return_types.min(\n",
       "values=tensor([0.1993, 0.0587, 0.3600]),\n",
       "indices=tensor([2, 0, 0]))"
      ]
     },
     "execution_count": 108,
     "metadata": {},
     "output_type": "execute_result"
    }
   ],
   "source": [
    "# Find the min values in each row\n",
    "\n",
    "torch.min(A,dim=1)"
   ]
  },
  {
   "cell_type": "code",
   "execution_count": 109,
   "id": "dcb267e7",
   "metadata": {},
   "outputs": [
    {
     "data": {
      "text/plain": [
       "torch.return_types.max(\n",
       "values=tensor([0.7247, 0.5264, 0.9860]),\n",
       "indices=tensor([1, 2, 1]))"
      ]
     },
     "execution_count": 109,
     "metadata": {},
     "output_type": "execute_result"
    }
   ],
   "source": [
    "torch.max(A,dim=1)"
   ]
  },
  {
   "cell_type": "code",
   "execution_count": 110,
   "id": "86eb0db2",
   "metadata": {},
   "outputs": [
    {
     "data": {
      "text/plain": [
       "torch.return_types.min(\n",
       "values=tensor([0.0587, 0.3846, 0.1993]),\n",
       "indices=tensor([1, 1, 0]))"
      ]
     },
     "execution_count": 110,
     "metadata": {},
     "output_type": "execute_result"
    }
   ],
   "source": [
    "#Find the min values in each col\n",
    "\n",
    "torch.min(A,dim=0)"
   ]
  },
  {
   "cell_type": "code",
   "execution_count": 112,
   "id": "9d6b29c1",
   "metadata": {},
   "outputs": [
    {
     "data": {
      "text/plain": [
       "tensor([[0.2944, 0.7247, 0.1993],\n",
       "        [0.0587, 0.3846, 0.5264],\n",
       "        [0.3600, 0.9860, 0.6681]])"
      ]
     },
     "execution_count": 112,
     "metadata": {},
     "output_type": "execute_result"
    }
   ],
   "source": [
    "torch.abs(-A)"
   ]
  },
  {
   "cell_type": "code",
   "execution_count": 113,
   "id": "33755b38",
   "metadata": {},
   "outputs": [
    {
     "data": {
      "text/plain": [
       "tensor(7)"
      ]
     },
     "execution_count": 113,
     "metadata": {},
     "output_type": "execute_result"
    }
   ],
   "source": [
    "torch.argmax(A)"
   ]
  },
  {
   "cell_type": "code",
   "execution_count": 114,
   "id": "e247e5cc",
   "metadata": {},
   "outputs": [
    {
     "data": {
      "text/plain": [
       "tensor(3)"
      ]
     },
     "execution_count": 114,
     "metadata": {},
     "output_type": "execute_result"
    }
   ],
   "source": [
    "torch.argmin(A)"
   ]
  },
  {
   "cell_type": "code",
   "execution_count": 115,
   "id": "2679645d",
   "metadata": {},
   "outputs": [
    {
     "data": {
      "text/plain": [
       "tensor([1, 2, 1])"
      ]
     },
     "execution_count": 115,
     "metadata": {},
     "output_type": "execute_result"
    }
   ],
   "source": [
    "#Find the index of the max value row wise\n",
    "torch.argmax(A,dim=1)"
   ]
  },
  {
   "cell_type": "code",
   "execution_count": 116,
   "id": "01f677ac",
   "metadata": {},
   "outputs": [
    {
     "data": {
      "text/plain": [
       "tensor([2, 0, 0])"
      ]
     },
     "execution_count": 116,
     "metadata": {},
     "output_type": "execute_result"
    }
   ],
   "source": [
    "#Find the index of the min value row wise\n",
    "torch.argmin(A,dim=1)"
   ]
  },
  {
   "cell_type": "code",
   "execution_count": 117,
   "id": "d0412b8c",
   "metadata": {},
   "outputs": [
    {
     "data": {
      "text/plain": [
       "tensor([1, 1, 0])"
      ]
     },
     "execution_count": 117,
     "metadata": {},
     "output_type": "execute_result"
    }
   ],
   "source": [
    "#Find the index of the min value col wise\n",
    "torch.argmin(A,dim=0)"
   ]
  },
  {
   "cell_type": "code",
   "execution_count": 118,
   "id": "792d66c7",
   "metadata": {},
   "outputs": [
    {
     "data": {
      "text/plain": [
       "tensor([2, 2, 2])"
      ]
     },
     "execution_count": 118,
     "metadata": {},
     "output_type": "execute_result"
    }
   ],
   "source": [
    "#Find the index of the max value col wise\n",
    "torch.argmax(A,dim=0)"
   ]
  },
  {
   "cell_type": "code",
   "execution_count": 119,
   "id": "a9e31c62",
   "metadata": {},
   "outputs": [
    {
     "data": {
      "text/plain": [
       "tensor([0.4061, 0.3232, 0.6714])"
      ]
     },
     "execution_count": 119,
     "metadata": {},
     "output_type": "execute_result"
    }
   ],
   "source": [
    "#Find the mean row wise\n",
    "torch.mean(A,dim=1)"
   ]
  },
  {
   "cell_type": "code",
   "execution_count": 120,
   "id": "0b13d8ac",
   "metadata": {},
   "outputs": [
    {
     "data": {
      "text/plain": [
       "tensor([0.2377, 0.6984, 0.4646])"
      ]
     },
     "execution_count": 120,
     "metadata": {},
     "output_type": "execute_result"
    }
   ],
   "source": [
    "#Find the mean col wise\n",
    "torch.mean(A,dim=0)"
   ]
  },
  {
   "cell_type": "code",
   "execution_count": 121,
   "id": "38a18dd5",
   "metadata": {},
   "outputs": [
    {
     "data": {
      "text/plain": [
       "tensor([[0.2944, 0.7247, 0.1993],\n",
       "        [0.0587, 0.3846, 0.5264],\n",
       "        [0.3600, 0.9860, 0.6681]])"
      ]
     },
     "execution_count": 121,
     "metadata": {},
     "output_type": "execute_result"
    }
   ],
   "source": [
    "A"
   ]
  },
  {
   "cell_type": "code",
   "execution_count": 123,
   "id": "44194097",
   "metadata": {},
   "outputs": [
    {
     "data": {
      "text/plain": [
       "tensor([[1., 1., 1.],\n",
       "        [1., 1., 1.],\n",
       "        [1., 1., 1.]])"
      ]
     },
     "execution_count": 123,
     "metadata": {},
     "output_type": "execute_result"
    }
   ],
   "source": [
    "D = torch.ones(A.shape)\n",
    "D"
   ]
  },
  {
   "cell_type": "code",
   "execution_count": 125,
   "id": "c97f446f",
   "metadata": {},
   "outputs": [
    {
     "data": {
      "text/plain": [
       "tensor([[False, False, False],\n",
       "        [False, False, False],\n",
       "        [False, False, False]])"
      ]
     },
     "execution_count": 125,
     "metadata": {},
     "output_type": "execute_result"
    }
   ],
   "source": [
    "#Comparing A and D element wise\n",
    "torch.eq(A,D)"
   ]
  },
  {
   "cell_type": "code",
   "execution_count": 126,
   "id": "1301c8ca",
   "metadata": {},
   "outputs": [
    {
     "data": {
      "text/plain": [
       "tensor([[0.2944, 0.7247, 0.1993],\n",
       "        [0.0587, 0.3846, 0.5264],\n",
       "        [0.3600, 0.9860, 0.6681]])"
      ]
     },
     "execution_count": 126,
     "metadata": {},
     "output_type": "execute_result"
    }
   ],
   "source": [
    "A"
   ]
  },
  {
   "cell_type": "code",
   "execution_count": 127,
   "id": "9b4fa3de",
   "metadata": {},
   "outputs": [
    {
     "data": {
      "text/plain": [
       "torch.return_types.sort(\n",
       "values=tensor([[0.1993, 0.2944, 0.7247],\n",
       "        [0.0587, 0.3846, 0.5264],\n",
       "        [0.3600, 0.6681, 0.9860]]),\n",
       "indices=tensor([[2, 0, 1],\n",
       "        [0, 1, 2],\n",
       "        [0, 2, 1]]))"
      ]
     },
     "execution_count": 127,
     "metadata": {},
     "output_type": "execute_result"
    }
   ],
   "source": [
    "#Each row sorted\n",
    "torch.sort(A)"
   ]
  },
  {
   "cell_type": "code",
   "execution_count": 129,
   "id": "132c1d55",
   "metadata": {},
   "outputs": [
    {
     "data": {
      "text/plain": [
       "torch.return_types.sort(\n",
       "values=tensor([[0.0587, 0.3846, 0.1993],\n",
       "        [0.2944, 0.7247, 0.5264],\n",
       "        [0.3600, 0.9860, 0.6681]]),\n",
       "indices=tensor([[1, 1, 0],\n",
       "        [0, 0, 1],\n",
       "        [2, 2, 2]]))"
      ]
     },
     "execution_count": 129,
     "metadata": {},
     "output_type": "execute_result"
    }
   ],
   "source": [
    "#Each col sorted\n",
    "torch.sort(A,dim=0)"
   ]
  },
  {
   "cell_type": "code",
   "execution_count": 130,
   "id": "413a2342",
   "metadata": {},
   "outputs": [
    {
     "data": {
      "text/plain": [
       "tensor([[0.5000, 0.7247, 0.5000],\n",
       "        [0.5000, 0.5000, 0.5264],\n",
       "        [0.5000, 0.9860, 0.6681]])"
      ]
     },
     "execution_count": 130,
     "metadata": {},
     "output_type": "execute_result"
    }
   ],
   "source": [
    "#Clamp the tensor if the values is below the threshold values -> value = threshold\n",
    "torch.clamp(A,min=0.5)"
   ]
  },
  {
   "cell_type": "code",
   "execution_count": 131,
   "id": "1294b8ec",
   "metadata": {},
   "outputs": [
    {
     "data": {
      "text/plain": [
       "tensor([[0.2944, 0.7247, 0.1993],\n",
       "        [0.0587, 0.3846, 0.5264],\n",
       "        [0.3600, 0.9860, 0.6681]])"
      ]
     },
     "execution_count": 131,
     "metadata": {},
     "output_type": "execute_result"
    }
   ],
   "source": [
    "A"
   ]
  },
  {
   "cell_type": "markdown",
   "id": "2d2e55be",
   "metadata": {},
   "source": [
    "# Indexing , Slicing, Concatenation and Reshaping Operations"
   ]
  },
  {
   "cell_type": "code",
   "execution_count": 132,
   "id": "1c11386e",
   "metadata": {},
   "outputs": [
    {
     "data": {
      "text/plain": [
       "tensor([[0.3171, 0.8870, 0.5975, 0.7841],\n",
       "        [0.8962, 0.7143, 0.9882, 0.5780],\n",
       "        [0.9268, 0.9957, 0.6012, 0.7536]])"
      ]
     },
     "execution_count": 132,
     "metadata": {},
     "output_type": "execute_result"
    }
   ],
   "source": [
    "Tensor = torch.rand(size=(3,4))\n",
    "Tensor"
   ]
  },
  {
   "cell_type": "code",
   "execution_count": 133,
   "id": "0abc7a0f",
   "metadata": {},
   "outputs": [
    {
     "data": {
      "text/plain": [
       "tensor([0.3171, 0.8870, 0.5975, 0.7841])"
      ]
     },
     "execution_count": 133,
     "metadata": {},
     "output_type": "execute_result"
    }
   ],
   "source": [
    "#Tensor[row,cols,steps]\n",
    "# row - > start:stop:step\n",
    "# col - > start:stop:step\n",
    "\n",
    "\n",
    "Tensor[0,:]"
   ]
  },
  {
   "cell_type": "code",
   "execution_count": 134,
   "id": "e9407cc6",
   "metadata": {},
   "outputs": [
    {
     "data": {
      "text/plain": [
       "tensor([0.3171, 0.8962, 0.9268])"
      ]
     },
     "execution_count": 134,
     "metadata": {},
     "output_type": "execute_result"
    }
   ],
   "source": [
    "Tensor[:,0]"
   ]
  },
  {
   "cell_type": "code",
   "execution_count": 135,
   "id": "0753b78f",
   "metadata": {},
   "outputs": [
    {
     "data": {
      "text/plain": [
       "tensor([[0.3171, 0.8870, 0.5975],\n",
       "        [0.8962, 0.7143, 0.9882]])"
      ]
     },
     "execution_count": 135,
     "metadata": {},
     "output_type": "execute_result"
    }
   ],
   "source": [
    "Tensor[0:2,0:3]"
   ]
  },
  {
   "cell_type": "code",
   "execution_count": 136,
   "id": "96d3069d",
   "metadata": {},
   "outputs": [
    {
     "data": {
      "text/plain": [
       "tensor(0.3171)"
      ]
     },
     "execution_count": 136,
     "metadata": {},
     "output_type": "execute_result"
    }
   ],
   "source": [
    "Tensor[0,0]"
   ]
  },
  {
   "cell_type": "code",
   "execution_count": 137,
   "id": "8f826b49",
   "metadata": {},
   "outputs": [],
   "source": [
    "Tensor[0,0] = .8"
   ]
  },
  {
   "cell_type": "code",
   "execution_count": 138,
   "id": "32c7b73d",
   "metadata": {},
   "outputs": [
    {
     "data": {
      "text/plain": [
       "tensor([[0.8000, 0.8870, 0.5975, 0.7841],\n",
       "        [0.8962, 0.7143, 0.9882, 0.5780],\n",
       "        [0.9268, 0.9957, 0.6012, 0.7536]])"
      ]
     },
     "execution_count": 138,
     "metadata": {},
     "output_type": "execute_result"
    }
   ],
   "source": [
    "Tensor"
   ]
  },
  {
   "cell_type": "code",
   "execution_count": 140,
   "id": "71753c2a",
   "metadata": {},
   "outputs": [],
   "source": [
    "TensorX = torch.rand(size=(3,4))\n",
    "TensorY = torch.rand(size=(3,4))"
   ]
  },
  {
   "cell_type": "code",
   "execution_count": 141,
   "id": "b9e23724",
   "metadata": {},
   "outputs": [
    {
     "data": {
      "text/plain": [
       "tensor([[0.0728, 0.4353, 0.4237, 0.6530, 0.3772, 0.9652, 0.4505, 0.8595],\n",
       "        [0.5642, 0.5375, 0.3008, 0.3903, 0.1763, 0.3635, 0.2138, 0.2698],\n",
       "        [0.7248, 0.6836, 0.0108, 0.5761, 0.2924, 0.9918, 0.6179, 0.2334]])"
      ]
     },
     "execution_count": 141,
     "metadata": {},
     "output_type": "execute_result"
    }
   ],
   "source": [
    "#Horizontal Concatenation\n",
    "\n",
    "torch.cat((TensorX,TensorY),dim=1)"
   ]
  },
  {
   "cell_type": "code",
   "execution_count": 144,
   "id": "4366282b",
   "metadata": {},
   "outputs": [
    {
     "data": {
      "text/plain": [
       "tensor([[0.0728, 0.4353, 0.4237, 0.6530],\n",
       "        [0.5642, 0.5375, 0.3008, 0.3903],\n",
       "        [0.7248, 0.6836, 0.0108, 0.5761],\n",
       "        [0.3772, 0.9652, 0.4505, 0.8595],\n",
       "        [0.1763, 0.3635, 0.2138, 0.2698],\n",
       "        [0.2924, 0.9918, 0.6179, 0.2334]])"
      ]
     },
     "execution_count": 144,
     "metadata": {},
     "output_type": "execute_result"
    }
   ],
   "source": [
    "#Vertical concatenation\n",
    "\n",
    "torch.cat((TensorX,TensorY),dim=0)"
   ]
  },
  {
   "cell_type": "code",
   "execution_count": 145,
   "id": "58bbf766",
   "metadata": {},
   "outputs": [
    {
     "data": {
      "text/plain": [
       "torch.Size([3, 4])"
      ]
     },
     "execution_count": 145,
     "metadata": {},
     "output_type": "execute_result"
    }
   ],
   "source": [
    "TensorX.shape"
   ]
  },
  {
   "cell_type": "code",
   "execution_count": 146,
   "id": "e84d1684",
   "metadata": {},
   "outputs": [
    {
     "data": {
      "text/plain": [
       "tensor([[0.8000, 0.8870, 0.5975, 0.7841, 0.8962, 0.7143],\n",
       "        [0.9882, 0.5780, 0.9268, 0.9957, 0.6012, 0.7536]])"
      ]
     },
     "execution_count": 146,
     "metadata": {},
     "output_type": "execute_result"
    }
   ],
   "source": [
    "#Number of elements should match\n",
    "Tensor.reshape(2,6) "
   ]
  },
  {
   "cell_type": "code",
   "execution_count": 148,
   "id": "c5f23b33",
   "metadata": {},
   "outputs": [
    {
     "data": {
      "text/plain": [
       "tensor([[0.0728, 0.4353, 0.4237, 0.6530, 0.5642, 0.5375, 0.3008, 0.3903, 0.7248,\n",
       "         0.6836, 0.0108, 0.5761]])"
      ]
     },
     "execution_count": 148,
     "metadata": {},
     "output_type": "execute_result"
    }
   ],
   "source": [
    "TensorX.reshape(1,12)"
   ]
  },
  {
   "cell_type": "code",
   "execution_count": 149,
   "id": "ff83308b",
   "metadata": {},
   "outputs": [
    {
     "data": {
      "text/plain": [
       "tensor([[0.0728],\n",
       "        [0.4353],\n",
       "        [0.4237],\n",
       "        [0.6530],\n",
       "        [0.5642],\n",
       "        [0.5375],\n",
       "        [0.3008],\n",
       "        [0.3903],\n",
       "        [0.7248],\n",
       "        [0.6836],\n",
       "        [0.0108],\n",
       "        [0.5761]])"
      ]
     },
     "execution_count": 149,
     "metadata": {},
     "output_type": "execute_result"
    }
   ],
   "source": [
    "TensorX.reshape(12,1)"
   ]
  },
  {
   "cell_type": "code",
   "execution_count": 151,
   "id": "367a3992",
   "metadata": {},
   "outputs": [
    {
     "data": {
      "text/plain": [
       "tensor([0.0728, 0.4353, 0.4237, 0.6530, 0.5642, 0.5375, 0.3008, 0.3903, 0.7248,\n",
       "        0.6836, 0.0108, 0.5761])"
      ]
     },
     "execution_count": 151,
     "metadata": {},
     "output_type": "execute_result"
    }
   ],
   "source": [
    "#Flattening Operations\n",
    "\n",
    "TensorX.view(-1)"
   ]
  },
  {
   "cell_type": "code",
   "execution_count": 153,
   "id": "80a0b768",
   "metadata": {},
   "outputs": [
    {
     "data": {
      "text/plain": [
       "torch.Size([12])"
      ]
     },
     "execution_count": 153,
     "metadata": {},
     "output_type": "execute_result"
    }
   ],
   "source": [
    "TensorX.view(-1).shape"
   ]
  },
  {
   "cell_type": "code",
   "execution_count": 156,
   "id": "82e1c6ef",
   "metadata": {},
   "outputs": [
    {
     "data": {
      "text/plain": [
       "tensor([[0.9070, 0.7919, 0.6132, 0.2486, 0.1355, 0.1992, 0.8709, 0.1780, 0.8649,\n",
       "         0.5660],\n",
       "        [0.5291, 0.9455, 0.9383, 0.9605, 0.5071, 0.4900, 0.6949, 0.8131, 0.3487,\n",
       "         0.7767],\n",
       "        [0.3289, 0.1073, 0.1725, 0.4811, 0.9382, 0.7643, 0.8693, 0.9120, 0.1529,\n",
       "         0.8120],\n",
       "        [0.2651, 0.2259, 0.0795, 0.9197, 0.2269, 0.2513, 0.2331, 0.9293, 0.4156,\n",
       "         0.0407],\n",
       "        [0.6019, 0.9094, 0.0493, 0.2362, 0.3184, 0.1185, 0.4351, 0.3922, 0.0993,\n",
       "         0.8252],\n",
       "        [0.0328, 0.9406, 0.3290, 0.0775, 0.9919, 0.0227, 0.5816, 0.6349, 0.2954,\n",
       "         0.9222],\n",
       "        [0.0491, 0.7471, 0.4863, 0.2628, 0.4760, 0.0741, 0.8434, 0.2253, 0.7044,\n",
       "         0.0218],\n",
       "        [0.0708, 0.9842, 0.3915, 0.7418, 0.7840, 0.8353, 0.9170, 0.0536, 0.1779,\n",
       "         0.2246],\n",
       "        [0.4663, 0.6123, 0.8727, 0.6585, 0.8743, 0.4191, 0.7356, 0.5791, 0.6852,\n",
       "         0.0156],\n",
       "        [0.6946, 0.6536, 0.0849, 0.0305, 0.0345, 0.0888, 0.0292, 0.4891, 0.2259,\n",
       "         0.2882],\n",
       "        [0.4861, 0.4420, 0.9673, 0.7720, 0.6418, 0.9773, 0.0167, 0.1105, 0.5002,\n",
       "         0.0531],\n",
       "        [0.4034, 0.7387, 0.1665, 0.8895, 0.7549, 0.8908, 0.4813, 0.3831, 0.0651,\n",
       "         0.2334],\n",
       "        [0.2581, 0.9158, 0.9739, 0.1908, 0.5790, 0.6817, 0.5503, 0.0413, 0.6432,\n",
       "         0.4737],\n",
       "        [0.3024, 0.1193, 0.5529, 0.2526, 0.6793, 0.1929, 0.8941, 0.8837, 0.9209,\n",
       "         0.5041],\n",
       "        [0.6319, 0.8791, 0.5138, 0.3188, 0.5064, 0.7531, 0.7905, 0.9349, 0.1005,\n",
       "         0.2128],\n",
       "        [0.8238, 0.3781, 0.9024, 0.4782, 0.3623, 0.7258, 0.8263, 0.3971, 0.4099,\n",
       "         0.7424]])"
      ]
     },
     "execution_count": 156,
     "metadata": {},
     "output_type": "execute_result"
    }
   ],
   "source": [
    "#Batch Flattening\n",
    "batch = 16\n",
    "torch.rand((batch,2,5)).view(batch,-1)"
   ]
  },
  {
   "cell_type": "code",
   "execution_count": null,
   "id": "ec7d4afc",
   "metadata": {},
   "outputs": [],
   "source": []
  }
 ],
 "metadata": {
  "kernelspec": {
   "display_name": "Python 3",
   "language": "python",
   "name": "python3"
  },
  "language_info": {
   "codemirror_mode": {
    "name": "ipython",
    "version": 3
   },
   "file_extension": ".py",
   "mimetype": "text/x-python",
   "name": "python",
   "nbconvert_exporter": "python",
   "pygments_lexer": "ipython3",
   "version": "3.6.13"
  }
 },
 "nbformat": 4,
 "nbformat_minor": 5
}
